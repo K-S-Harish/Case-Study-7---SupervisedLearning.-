{
 "cells": [
  {
   "cell_type": "markdown",
   "id": "68653d25",
   "metadata": {},
   "source": [
    "### Importing the libraries"
   ]
  },
  {
   "cell_type": "code",
   "execution_count": 1,
   "id": "97b3149b",
   "metadata": {},
   "outputs": [],
   "source": [
    "import numpy as np\n",
    "import pandas as pd\n",
    "import matplotlib.pyplot as plt\n",
    "import seaborn as sns"
   ]
  },
  {
   "cell_type": "markdown",
   "id": "6896c825",
   "metadata": {},
   "source": [
    "# 1.) Loading the dataset into our environment"
   ]
  },
  {
   "cell_type": "code",
   "execution_count": 2,
   "id": "5651c058",
   "metadata": {},
   "outputs": [
    {
     "data": {
      "text/html": [
       "<div>\n",
       "<style scoped>\n",
       "    .dataframe tbody tr th:only-of-type {\n",
       "        vertical-align: middle;\n",
       "    }\n",
       "\n",
       "    .dataframe tbody tr th {\n",
       "        vertical-align: top;\n",
       "    }\n",
       "\n",
       "    .dataframe thead th {\n",
       "        text-align: right;\n",
       "    }\n",
       "</style>\n",
       "<table border=\"1\" class=\"dataframe\">\n",
       "  <thead>\n",
       "    <tr style=\"text-align: right;\">\n",
       "      <th></th>\n",
       "      <th>SL</th>\n",
       "      <th>SW</th>\n",
       "      <th>PL</th>\n",
       "      <th>PW</th>\n",
       "      <th>Classification</th>\n",
       "    </tr>\n",
       "  </thead>\n",
       "  <tbody>\n",
       "    <tr>\n",
       "      <th>0</th>\n",
       "      <td>5.1</td>\n",
       "      <td>3.5</td>\n",
       "      <td>1.4</td>\n",
       "      <td>0.2</td>\n",
       "      <td>Iris-setosa</td>\n",
       "    </tr>\n",
       "    <tr>\n",
       "      <th>1</th>\n",
       "      <td>4.9</td>\n",
       "      <td>3.0</td>\n",
       "      <td>1.4</td>\n",
       "      <td>0.2</td>\n",
       "      <td>Iris-setosa</td>\n",
       "    </tr>\n",
       "    <tr>\n",
       "      <th>2</th>\n",
       "      <td>NaN</td>\n",
       "      <td>3.2</td>\n",
       "      <td>1.3</td>\n",
       "      <td>0.2</td>\n",
       "      <td>Iris-setosa</td>\n",
       "    </tr>\n",
       "    <tr>\n",
       "      <th>3</th>\n",
       "      <td>4.6</td>\n",
       "      <td>3.1</td>\n",
       "      <td>1.5</td>\n",
       "      <td>0.2</td>\n",
       "      <td>Iris-setosa</td>\n",
       "    </tr>\n",
       "    <tr>\n",
       "      <th>4</th>\n",
       "      <td>5.0</td>\n",
       "      <td>3.6</td>\n",
       "      <td>1.4</td>\n",
       "      <td>0.2</td>\n",
       "      <td>Iris-setosa</td>\n",
       "    </tr>\n",
       "    <tr>\n",
       "      <th>...</th>\n",
       "      <td>...</td>\n",
       "      <td>...</td>\n",
       "      <td>...</td>\n",
       "      <td>...</td>\n",
       "      <td>...</td>\n",
       "    </tr>\n",
       "    <tr>\n",
       "      <th>145</th>\n",
       "      <td>6.7</td>\n",
       "      <td>3.0</td>\n",
       "      <td>5.2</td>\n",
       "      <td>2.3</td>\n",
       "      <td>Iris-virginica</td>\n",
       "    </tr>\n",
       "    <tr>\n",
       "      <th>146</th>\n",
       "      <td>6.3</td>\n",
       "      <td>2.5</td>\n",
       "      <td>5.0</td>\n",
       "      <td>1.9</td>\n",
       "      <td>Iris-virginica</td>\n",
       "    </tr>\n",
       "    <tr>\n",
       "      <th>147</th>\n",
       "      <td>6.5</td>\n",
       "      <td>3.0</td>\n",
       "      <td>NaN</td>\n",
       "      <td>2.0</td>\n",
       "      <td>Iris-virginica</td>\n",
       "    </tr>\n",
       "    <tr>\n",
       "      <th>148</th>\n",
       "      <td>6.2</td>\n",
       "      <td>3.4</td>\n",
       "      <td>5.4</td>\n",
       "      <td>2.3</td>\n",
       "      <td>Iris-virginica</td>\n",
       "    </tr>\n",
       "    <tr>\n",
       "      <th>149</th>\n",
       "      <td>5.9</td>\n",
       "      <td>3.0</td>\n",
       "      <td>5.1</td>\n",
       "      <td>1.8</td>\n",
       "      <td>Iris-virginica</td>\n",
       "    </tr>\n",
       "  </tbody>\n",
       "</table>\n",
       "<p>150 rows × 5 columns</p>\n",
       "</div>"
      ],
      "text/plain": [
       "      SL   SW   PL   PW  Classification\n",
       "0    5.1  3.5  1.4  0.2     Iris-setosa\n",
       "1    4.9  3.0  1.4  0.2     Iris-setosa\n",
       "2    NaN  3.2  1.3  0.2     Iris-setosa\n",
       "3    4.6  3.1  1.5  0.2     Iris-setosa\n",
       "4    5.0  3.6  1.4  0.2     Iris-setosa\n",
       "..   ...  ...  ...  ...             ...\n",
       "145  6.7  3.0  5.2  2.3  Iris-virginica\n",
       "146  6.3  2.5  5.0  1.9  Iris-virginica\n",
       "147  6.5  3.0  NaN  2.0  Iris-virginica\n",
       "148  6.2  3.4  5.4  2.3  Iris-virginica\n",
       "149  5.9  3.0  5.1  1.8  Iris-virginica\n",
       "\n",
       "[150 rows x 5 columns]"
      ]
     },
     "execution_count": 2,
     "metadata": {},
     "output_type": "execute_result"
    }
   ],
   "source": [
    "df = pd.read_excel(\"iris.xls\")\n",
    "df"
   ]
  },
  {
   "cell_type": "markdown",
   "id": "d5960a33",
   "metadata": {},
   "source": [
    "We have 5 features (inc. the target) and 150 samples"
   ]
  },
  {
   "cell_type": "code",
   "execution_count": 3,
   "id": "dceca13a",
   "metadata": {},
   "outputs": [
    {
     "data": {
      "text/plain": [
       "Iris-virginica     50\n",
       "Iris-versicolor    50\n",
       "Iris-setosa        50\n",
       "Name: Classification, dtype: int64"
      ]
     },
     "execution_count": 3,
     "metadata": {},
     "output_type": "execute_result"
    }
   ],
   "source": [
    "df.Classification.value_counts()"
   ]
  },
  {
   "cell_type": "markdown",
   "id": "189e6a60",
   "metadata": {},
   "source": [
    "### Desribing the features:"
   ]
  },
  {
   "cell_type": "markdown",
   "id": "5bf2c28b",
   "metadata": {},
   "source": [
    "In the Dataset given to us, we're provided with the following information :\n",
    "\n",
    "> * We've a total of 150 data samples of Iris flower with us.\n",
    "\n",
    "> * There are 3 different species of Iris in our sample. Each species has 50 samples beneath them. The 3 species are :\n",
    "> > * `Iris-virginica`,\n",
    "> > * `Iris-setosa`,\n",
    "> > * `Iris-versicolor`.\n",
    "\n",
    "> * The following features of various iris species have been recorded in our dataset.\n",
    "> > * **Sepal length (SL)** - This represents the Length of Iris Sepal,\n",
    "> > * **Sepal width (SW)** - Represents the Width of Iris Sepal, \n",
    "> > * **Petal length (PL)** - Represents the Length of Iris Petal\n",
    "> > * **Petal width (PW)** - Represents the Width of Iris Petal"
   ]
  },
  {
   "cell_type": "code",
   "execution_count": 4,
   "id": "56c3795a",
   "metadata": {},
   "outputs": [
    {
     "name": "stdout",
     "output_type": "stream",
     "text": [
      "<class 'pandas.core.frame.DataFrame'>\n",
      "RangeIndex: 150 entries, 0 to 149\n",
      "Data columns (total 5 columns):\n",
      " #   Column          Non-Null Count  Dtype  \n",
      "---  ------          --------------  -----  \n",
      " 0   SL              143 non-null    float64\n",
      " 1   SW              144 non-null    float64\n",
      " 2   PL              144 non-null    float64\n",
      " 3   PW              150 non-null    float64\n",
      " 4   Classification  150 non-null    object \n",
      "dtypes: float64(4), object(1)\n",
      "memory usage: 6.0+ KB\n"
     ]
    }
   ],
   "source": [
    "df.info()"
   ]
  },
  {
   "cell_type": "markdown",
   "id": "5f857d8a",
   "metadata": {},
   "source": [
    "# 2.) Performing preprocessing"
   ]
  },
  {
   "cell_type": "markdown",
   "id": "2659713c",
   "metadata": {},
   "source": [
    "**Step 1** : `Checking for missing Values and duplicates`"
   ]
  },
  {
   "cell_type": "code",
   "execution_count": 5,
   "id": "800f35e2",
   "metadata": {},
   "outputs": [
    {
     "data": {
      "text/plain": [
       "SL                7\n",
       "SW                6\n",
       "PL                6\n",
       "PW                0\n",
       "Classification    0\n",
       "dtype: int64"
      ]
     },
     "execution_count": 5,
     "metadata": {},
     "output_type": "execute_result"
    }
   ],
   "source": [
    "df.isna().sum()"
   ]
  },
  {
   "cell_type": "code",
   "execution_count": 6,
   "id": "0210bac6",
   "metadata": {},
   "outputs": [
    {
     "data": {
      "text/plain": [
       "False    147\n",
       "True       3\n",
       "dtype: int64"
      ]
     },
     "execution_count": 6,
     "metadata": {},
     "output_type": "execute_result"
    }
   ],
   "source": [
    "df.duplicated().value_counts()"
   ]
  },
  {
   "cell_type": "code",
   "execution_count": 7,
   "id": "0f382a53",
   "metadata": {},
   "outputs": [
    {
     "data": {
      "text/plain": [
       "Iris-virginica     50\n",
       "Iris-versicolor    50\n",
       "Iris-setosa        50\n",
       "Name: Classification, dtype: int64"
      ]
     },
     "execution_count": 7,
     "metadata": {},
     "output_type": "execute_result"
    }
   ],
   "source": [
    "df.Classification.value_counts()"
   ]
  },
  {
   "cell_type": "code",
   "execution_count": 8,
   "id": "48042496",
   "metadata": {},
   "outputs": [
    {
     "data": {
      "text/html": [
       "<div>\n",
       "<style scoped>\n",
       "    .dataframe tbody tr th:only-of-type {\n",
       "        vertical-align: middle;\n",
       "    }\n",
       "\n",
       "    .dataframe tbody tr th {\n",
       "        vertical-align: top;\n",
       "    }\n",
       "\n",
       "    .dataframe thead th {\n",
       "        text-align: right;\n",
       "    }\n",
       "</style>\n",
       "<table border=\"1\" class=\"dataframe\">\n",
       "  <thead>\n",
       "    <tr style=\"text-align: right;\">\n",
       "      <th></th>\n",
       "      <th>SL</th>\n",
       "      <th>SW</th>\n",
       "      <th>PL</th>\n",
       "      <th>PW</th>\n",
       "      <th>Classification</th>\n",
       "    </tr>\n",
       "  </thead>\n",
       "  <tbody>\n",
       "    <tr>\n",
       "      <th>34</th>\n",
       "      <td>4.9</td>\n",
       "      <td>3.1</td>\n",
       "      <td>1.5</td>\n",
       "      <td>0.1</td>\n",
       "      <td>Iris-setosa</td>\n",
       "    </tr>\n",
       "    <tr>\n",
       "      <th>37</th>\n",
       "      <td>4.9</td>\n",
       "      <td>3.1</td>\n",
       "      <td>1.5</td>\n",
       "      <td>0.1</td>\n",
       "      <td>Iris-setosa</td>\n",
       "    </tr>\n",
       "    <tr>\n",
       "      <th>142</th>\n",
       "      <td>5.8</td>\n",
       "      <td>2.7</td>\n",
       "      <td>5.1</td>\n",
       "      <td>1.9</td>\n",
       "      <td>Iris-virginica</td>\n",
       "    </tr>\n",
       "  </tbody>\n",
       "</table>\n",
       "</div>"
      ],
      "text/plain": [
       "      SL   SW   PL   PW  Classification\n",
       "34   4.9  3.1  1.5  0.1     Iris-setosa\n",
       "37   4.9  3.1  1.5  0.1     Iris-setosa\n",
       "142  5.8  2.7  5.1  1.9  Iris-virginica"
      ]
     },
     "execution_count": 8,
     "metadata": {},
     "output_type": "execute_result"
    }
   ],
   "source": [
    "df[df.duplicated()]"
   ]
  },
  {
   "cell_type": "markdown",
   "id": "5361a61d",
   "metadata": {},
   "source": [
    "* There are 3 duplicates in our dataset but removing them might lead to imbalance in our dataset, as we see that our dataset is balanced (i.e. each of the species have equal no of samples)."
   ]
  },
  {
   "cell_type": "markdown",
   "id": "0dd046c1",
   "metadata": {},
   "source": [
    "* There are Missing Values present in ouir Dataset. \n",
    "\n",
    "> * The Missing values are in `Sepal length` (SL),`Sepal width` (SW), `Petal length` (PL) features."
   ]
  },
  {
   "cell_type": "code",
   "execution_count": 9,
   "id": "5152d385",
   "metadata": {},
   "outputs": [
    {
     "data": {
      "text/html": [
       "<div>\n",
       "<style scoped>\n",
       "    .dataframe tbody tr th:only-of-type {\n",
       "        vertical-align: middle;\n",
       "    }\n",
       "\n",
       "    .dataframe tbody tr th {\n",
       "        vertical-align: top;\n",
       "    }\n",
       "\n",
       "    .dataframe thead th {\n",
       "        text-align: right;\n",
       "    }\n",
       "</style>\n",
       "<table border=\"1\" class=\"dataframe\">\n",
       "  <thead>\n",
       "    <tr style=\"text-align: right;\">\n",
       "      <th></th>\n",
       "      <th>SL</th>\n",
       "      <th>SW</th>\n",
       "      <th>PL</th>\n",
       "      <th>PW</th>\n",
       "    </tr>\n",
       "  </thead>\n",
       "  <tbody>\n",
       "    <tr>\n",
       "      <th>count</th>\n",
       "      <td>143.000000</td>\n",
       "      <td>144.000000</td>\n",
       "      <td>144.000000</td>\n",
       "      <td>150.000000</td>\n",
       "    </tr>\n",
       "    <tr>\n",
       "      <th>mean</th>\n",
       "      <td>5.855944</td>\n",
       "      <td>3.049306</td>\n",
       "      <td>3.756250</td>\n",
       "      <td>1.198667</td>\n",
       "    </tr>\n",
       "    <tr>\n",
       "      <th>std</th>\n",
       "      <td>0.828168</td>\n",
       "      <td>0.430644</td>\n",
       "      <td>1.761306</td>\n",
       "      <td>0.763161</td>\n",
       "    </tr>\n",
       "    <tr>\n",
       "      <th>min</th>\n",
       "      <td>4.300000</td>\n",
       "      <td>2.000000</td>\n",
       "      <td>1.000000</td>\n",
       "      <td>0.100000</td>\n",
       "    </tr>\n",
       "    <tr>\n",
       "      <th>25%</th>\n",
       "      <td>5.100000</td>\n",
       "      <td>2.800000</td>\n",
       "      <td>1.600000</td>\n",
       "      <td>0.300000</td>\n",
       "    </tr>\n",
       "    <tr>\n",
       "      <th>50%</th>\n",
       "      <td>5.800000</td>\n",
       "      <td>3.000000</td>\n",
       "      <td>4.350000</td>\n",
       "      <td>1.300000</td>\n",
       "    </tr>\n",
       "    <tr>\n",
       "      <th>75%</th>\n",
       "      <td>6.400000</td>\n",
       "      <td>3.300000</td>\n",
       "      <td>5.100000</td>\n",
       "      <td>1.800000</td>\n",
       "    </tr>\n",
       "    <tr>\n",
       "      <th>max</th>\n",
       "      <td>7.900000</td>\n",
       "      <td>4.400000</td>\n",
       "      <td>6.900000</td>\n",
       "      <td>2.500000</td>\n",
       "    </tr>\n",
       "  </tbody>\n",
       "</table>\n",
       "</div>"
      ],
      "text/plain": [
       "               SL          SW          PL          PW\n",
       "count  143.000000  144.000000  144.000000  150.000000\n",
       "mean     5.855944    3.049306    3.756250    1.198667\n",
       "std      0.828168    0.430644    1.761306    0.763161\n",
       "min      4.300000    2.000000    1.000000    0.100000\n",
       "25%      5.100000    2.800000    1.600000    0.300000\n",
       "50%      5.800000    3.000000    4.350000    1.300000\n",
       "75%      6.400000    3.300000    5.100000    1.800000\n",
       "max      7.900000    4.400000    6.900000    2.500000"
      ]
     },
     "execution_count": 9,
     "metadata": {},
     "output_type": "execute_result"
    }
   ],
   "source": [
    "df.describe()"
   ]
  },
  {
   "cell_type": "markdown",
   "id": "868b4769",
   "metadata": {},
   "source": [
    "**Step 2** : `Filling the missing Values with the Median`"
   ]
  },
  {
   "cell_type": "code",
   "execution_count": 10,
   "id": "b97a8368",
   "metadata": {},
   "outputs": [
    {
     "name": "stdout",
     "output_type": "stream",
     "text": [
      "The skewness is :  0.3068227108046868\n"
     ]
    },
    {
     "name": "stderr",
     "output_type": "stream",
     "text": [
      "C:\\Users\\101me\\anaconda3\\lib\\site-packages\\seaborn\\distributions.py:2557: FutureWarning: `distplot` is a deprecated function and will be removed in a future version. Please adapt your code to use either `displot` (a figure-level function with similar flexibility) or `histplot` (an axes-level function for histograms).\n",
      "  warnings.warn(msg, FutureWarning)\n"
     ]
    },
    {
     "data": {
      "image/png": "[encoded data removed]",
      "text/plain": [
       "<Figure size 432x288 with 1 Axes>"
      ]
     },
     "metadata": {
      "needs_background": "light"
     },
     "output_type": "display_data"
    }
   ],
   "source": [
    "sns.distplot(df[\"SL\"])\n",
    "print(\"The skewness is : \", df.SL.skew())"
   ]
  },
  {
   "cell_type": "code",
   "execution_count": 11,
   "id": "f4a40e1b",
   "metadata": {},
   "outputs": [],
   "source": [
    "# Filling the missing value with the median\n",
    "\n",
    "df[\"SL\"] = df[\"SL\"].fillna(df[\"SL\"].median())"
   ]
  },
  {
   "cell_type": "code",
   "execution_count": 12,
   "id": "f637e1aa",
   "metadata": {},
   "outputs": [
    {
     "name": "stderr",
     "output_type": "stream",
     "text": [
      "C:\\Users\\101me\\anaconda3\\lib\\site-packages\\seaborn\\distributions.py:2557: FutureWarning: `distplot` is a deprecated function and will be removed in a future version. Please adapt your code to use either `displot` (a figure-level function with similar flexibility) or `histplot` (an axes-level function for histograms).\n",
      "  warnings.warn(msg, FutureWarning)\n"
     ]
    },
    {
     "name": "stdout",
     "output_type": "stream",
     "text": [
      "The skewness is :  0.37781843718771746\n"
     ]
    },
    {
     "data": {
      "image/png": "[encoded data removed]",
      "text/plain": [
       "<Figure size 432x288 with 1 Axes>"
      ]
     },
     "metadata": {
      "needs_background": "light"
     },
     "output_type": "display_data"
    }
   ],
   "source": [
    "sns.distplot(df[\"SW\"])\n",
    "print(\"The skewness is : \", df.SW.skew())"
   ]
  },
  {
   "cell_type": "code",
   "execution_count": 13,
   "id": "f360df34",
   "metadata": {},
   "outputs": [],
   "source": [
    "df[\"SW\"] = df[\"SW\"].fillna(df[\"SW\"].median())"
   ]
  },
  {
   "cell_type": "code",
   "execution_count": 14,
   "id": "a1b2c705",
   "metadata": {},
   "outputs": [
    {
     "name": "stderr",
     "output_type": "stream",
     "text": [
      "C:\\Users\\101me\\anaconda3\\lib\\site-packages\\seaborn\\distributions.py:2557: FutureWarning: `distplot` is a deprecated function and will be removed in a future version. Please adapt your code to use either `displot` (a figure-level function with similar flexibility) or `histplot` (an axes-level function for histograms).\n",
      "  warnings.warn(msg, FutureWarning)\n"
     ]
    },
    {
     "name": "stdout",
     "output_type": "stream",
     "text": [
      "The skewness is :  -0.2689053923783847\n"
     ]
    },
    {
     "data": {
      "image/png": "[encoded data removed]",
      "text/plain": [
       "<Figure size 432x288 with 1 Axes>"
      ]
     },
     "metadata": {
      "needs_background": "light"
     },
     "output_type": "display_data"
    }
   ],
   "source": [
    "sns.distplot(df.PL)\n",
    "print(\"The skewness is : \", df.PL.skew())"
   ]
  },
  {
   "cell_type": "code",
   "execution_count": 15,
   "id": "ee1e1f60",
   "metadata": {},
   "outputs": [],
   "source": [
    "df[\"PL\"] = df[\"PL\"].fillna(df[\"PL\"].median())"
   ]
  },
  {
   "cell_type": "code",
   "execution_count": 16,
   "id": "609085c8",
   "metadata": {},
   "outputs": [
    {
     "data": {
      "text/plain": [
       "SL                0\n",
       "SW                0\n",
       "PL                0\n",
       "PW                0\n",
       "Classification    0\n",
       "dtype: int64"
      ]
     },
     "execution_count": 16,
     "metadata": {},
     "output_type": "execute_result"
    }
   ],
   "source": [
    "df.isna().sum()"
   ]
  },
  {
   "cell_type": "markdown",
   "id": "295be17a",
   "metadata": {},
   "source": [
    "Thus, we've successfully filled in the Missing values in the dataset."
   ]
  },
  {
   "cell_type": "markdown",
   "id": "57b960f5",
   "metadata": {},
   "source": [
    "##### "
   ]
  },
  {
   "cell_type": "markdown",
   "id": "48753ade",
   "metadata": {},
   "source": [
    "**Step 2** : `Checking for Outliers`"
   ]
  },
  {
   "cell_type": "code",
   "execution_count": 17,
   "id": "12c009e9",
   "metadata": {},
   "outputs": [
    {
     "data": {
      "text/plain": [
       "Index(['SL', 'SW', 'PL', 'PW', 'Classification'], dtype='object')"
      ]
     },
     "execution_count": 17,
     "metadata": {},
     "output_type": "execute_result"
    }
   ],
   "source": [
    "df.columns"
   ]
  },
  {
   "cell_type": "code",
   "execution_count": 18,
   "id": "ffa1c806",
   "metadata": {},
   "outputs": [
    {
     "data": {
      "image/png": "[encoded data removed]",
      "text/plain": [
       "<Figure size 1152x648 with 4 Axes>"
      ]
     },
     "metadata": {
      "needs_background": "light"
     },
     "output_type": "display_data"
    }
   ],
   "source": [
    "fig, axes = plt.subplots(2, 2, figsize=(16,9))\n",
    "sns.boxplot(  y=\"SL\", x= \"Classification\", data=df,  orient='v' , ax=axes[0, 0])\n",
    "sns.boxplot(  y=\"SW\", x= \"Classification\", data=df,  orient='v' , ax=axes[0, 1])\n",
    "sns.boxplot(  y=\"PL\", x= \"Classification\", data=df,  orient='v' , ax=axes[1, 0])\n",
    "sns.boxplot(  y=\"PW\", x= \"Classification\", data=df,  orient='v' , ax=axes[1, 1])\n",
    "plt.show()"
   ]
  },
  {
   "cell_type": "code",
   "execution_count": 19,
   "id": "7efdcdba",
   "metadata": {},
   "outputs": [
    {
     "data": {
      "text/html": [
       "<div>\n",
       "<style scoped>\n",
       "    .dataframe tbody tr th:only-of-type {\n",
       "        vertical-align: middle;\n",
       "    }\n",
       "\n",
       "    .dataframe tbody tr th {\n",
       "        vertical-align: top;\n",
       "    }\n",
       "\n",
       "    .dataframe thead th {\n",
       "        text-align: right;\n",
       "    }\n",
       "</style>\n",
       "<table border=\"1\" class=\"dataframe\">\n",
       "  <thead>\n",
       "    <tr style=\"text-align: right;\">\n",
       "      <th></th>\n",
       "      <th>SL</th>\n",
       "      <th>SW</th>\n",
       "      <th>PL</th>\n",
       "      <th>PW</th>\n",
       "    </tr>\n",
       "  </thead>\n",
       "  <tbody>\n",
       "    <tr>\n",
       "      <th>count</th>\n",
       "      <td>150.000000</td>\n",
       "      <td>150.000000</td>\n",
       "      <td>150.000000</td>\n",
       "      <td>150.000000</td>\n",
       "    </tr>\n",
       "    <tr>\n",
       "      <th>mean</th>\n",
       "      <td>5.853333</td>\n",
       "      <td>3.047333</td>\n",
       "      <td>3.780000</td>\n",
       "      <td>1.198667</td>\n",
       "    </tr>\n",
       "    <tr>\n",
       "      <th>std</th>\n",
       "      <td>0.808567</td>\n",
       "      <td>0.421995</td>\n",
       "      <td>1.729424</td>\n",
       "      <td>0.763161</td>\n",
       "    </tr>\n",
       "    <tr>\n",
       "      <th>min</th>\n",
       "      <td>4.300000</td>\n",
       "      <td>2.000000</td>\n",
       "      <td>1.000000</td>\n",
       "      <td>0.100000</td>\n",
       "    </tr>\n",
       "    <tr>\n",
       "      <th>25%</th>\n",
       "      <td>5.200000</td>\n",
       "      <td>2.800000</td>\n",
       "      <td>1.600000</td>\n",
       "      <td>0.300000</td>\n",
       "    </tr>\n",
       "    <tr>\n",
       "      <th>50%</th>\n",
       "      <td>5.800000</td>\n",
       "      <td>3.000000</td>\n",
       "      <td>4.350000</td>\n",
       "      <td>1.300000</td>\n",
       "    </tr>\n",
       "    <tr>\n",
       "      <th>75%</th>\n",
       "      <td>6.400000</td>\n",
       "      <td>3.275000</td>\n",
       "      <td>5.100000</td>\n",
       "      <td>1.800000</td>\n",
       "    </tr>\n",
       "    <tr>\n",
       "      <th>max</th>\n",
       "      <td>7.900000</td>\n",
       "      <td>4.400000</td>\n",
       "      <td>6.900000</td>\n",
       "      <td>2.500000</td>\n",
       "    </tr>\n",
       "  </tbody>\n",
       "</table>\n",
       "</div>"
      ],
      "text/plain": [
       "               SL          SW          PL          PW\n",
       "count  150.000000  150.000000  150.000000  150.000000\n",
       "mean     5.853333    3.047333    3.780000    1.198667\n",
       "std      0.808567    0.421995    1.729424    0.763161\n",
       "min      4.300000    2.000000    1.000000    0.100000\n",
       "25%      5.200000    2.800000    1.600000    0.300000\n",
       "50%      5.800000    3.000000    4.350000    1.300000\n",
       "75%      6.400000    3.275000    5.100000    1.800000\n",
       "max      7.900000    4.400000    6.900000    2.500000"
      ]
     },
     "execution_count": 19,
     "metadata": {},
     "output_type": "execute_result"
    }
   ],
   "source": [
    "df.describe()"
   ]
  },
  {
   "cell_type": "markdown",
   "id": "3e91b594",
   "metadata": {},
   "source": [
    "> #### We can leave the `Outliers` as such since they're in acceptable range and their removal in such a small dataset may result in imbalance."
   ]
  },
  {
   "cell_type": "code",
   "execution_count": 20,
   "id": "28f2f3e3",
   "metadata": {},
   "outputs": [
    {
     "data": {
      "text/plain": [
       "Index(['SL', 'SW', 'PL', 'PW', 'Classification'], dtype='object')"
      ]
     },
     "execution_count": 20,
     "metadata": {},
     "output_type": "execute_result"
    }
   ],
   "source": [
    "df.columns"
   ]
  },
  {
   "cell_type": "code",
   "execution_count": 21,
   "id": "1db3e34f",
   "metadata": {},
   "outputs": [
    {
     "data": {
      "text/html": [
       "<div>\n",
       "<style scoped>\n",
       "    .dataframe tbody tr th:only-of-type {\n",
       "        vertical-align: middle;\n",
       "    }\n",
       "\n",
       "    .dataframe tbody tr th {\n",
       "        vertical-align: top;\n",
       "    }\n",
       "\n",
       "    .dataframe thead th {\n",
       "        text-align: right;\n",
       "    }\n",
       "</style>\n",
       "<table border=\"1\" class=\"dataframe\">\n",
       "  <thead>\n",
       "    <tr style=\"text-align: right;\">\n",
       "      <th></th>\n",
       "      <th>SL</th>\n",
       "      <th>SW</th>\n",
       "      <th>PL</th>\n",
       "      <th>PW</th>\n",
       "      <th>Classification</th>\n",
       "    </tr>\n",
       "  </thead>\n",
       "  <tbody>\n",
       "    <tr>\n",
       "      <th>0</th>\n",
       "      <td>5.1</td>\n",
       "      <td>3.5</td>\n",
       "      <td>1.40</td>\n",
       "      <td>0.2</td>\n",
       "      <td>Iris-setosa</td>\n",
       "    </tr>\n",
       "    <tr>\n",
       "      <th>1</th>\n",
       "      <td>4.9</td>\n",
       "      <td>3.0</td>\n",
       "      <td>1.40</td>\n",
       "      <td>0.2</td>\n",
       "      <td>Iris-setosa</td>\n",
       "    </tr>\n",
       "    <tr>\n",
       "      <th>2</th>\n",
       "      <td>5.8</td>\n",
       "      <td>3.2</td>\n",
       "      <td>1.30</td>\n",
       "      <td>0.2</td>\n",
       "      <td>Iris-setosa</td>\n",
       "    </tr>\n",
       "    <tr>\n",
       "      <th>3</th>\n",
       "      <td>4.6</td>\n",
       "      <td>3.1</td>\n",
       "      <td>1.50</td>\n",
       "      <td>0.2</td>\n",
       "      <td>Iris-setosa</td>\n",
       "    </tr>\n",
       "    <tr>\n",
       "      <th>4</th>\n",
       "      <td>5.0</td>\n",
       "      <td>3.6</td>\n",
       "      <td>1.40</td>\n",
       "      <td>0.2</td>\n",
       "      <td>Iris-setosa</td>\n",
       "    </tr>\n",
       "    <tr>\n",
       "      <th>...</th>\n",
       "      <td>...</td>\n",
       "      <td>...</td>\n",
       "      <td>...</td>\n",
       "      <td>...</td>\n",
       "      <td>...</td>\n",
       "    </tr>\n",
       "    <tr>\n",
       "      <th>145</th>\n",
       "      <td>6.7</td>\n",
       "      <td>3.0</td>\n",
       "      <td>5.20</td>\n",
       "      <td>2.3</td>\n",
       "      <td>Iris-virginica</td>\n",
       "    </tr>\n",
       "    <tr>\n",
       "      <th>146</th>\n",
       "      <td>6.3</td>\n",
       "      <td>2.5</td>\n",
       "      <td>5.00</td>\n",
       "      <td>1.9</td>\n",
       "      <td>Iris-virginica</td>\n",
       "    </tr>\n",
       "    <tr>\n",
       "      <th>147</th>\n",
       "      <td>6.5</td>\n",
       "      <td>3.0</td>\n",
       "      <td>4.35</td>\n",
       "      <td>2.0</td>\n",
       "      <td>Iris-virginica</td>\n",
       "    </tr>\n",
       "    <tr>\n",
       "      <th>148</th>\n",
       "      <td>6.2</td>\n",
       "      <td>3.4</td>\n",
       "      <td>5.40</td>\n",
       "      <td>2.3</td>\n",
       "      <td>Iris-virginica</td>\n",
       "    </tr>\n",
       "    <tr>\n",
       "      <th>149</th>\n",
       "      <td>5.9</td>\n",
       "      <td>3.0</td>\n",
       "      <td>5.10</td>\n",
       "      <td>1.8</td>\n",
       "      <td>Iris-virginica</td>\n",
       "    </tr>\n",
       "  </tbody>\n",
       "</table>\n",
       "<p>150 rows × 5 columns</p>\n",
       "</div>"
      ],
      "text/plain": [
       "      SL   SW    PL   PW  Classification\n",
       "0    5.1  3.5  1.40  0.2     Iris-setosa\n",
       "1    4.9  3.0  1.40  0.2     Iris-setosa\n",
       "2    5.8  3.2  1.30  0.2     Iris-setosa\n",
       "3    4.6  3.1  1.50  0.2     Iris-setosa\n",
       "4    5.0  3.6  1.40  0.2     Iris-setosa\n",
       "..   ...  ...   ...  ...             ...\n",
       "145  6.7  3.0  5.20  2.3  Iris-virginica\n",
       "146  6.3  2.5  5.00  1.9  Iris-virginica\n",
       "147  6.5  3.0  4.35  2.0  Iris-virginica\n",
       "148  6.2  3.4  5.40  2.3  Iris-virginica\n",
       "149  5.9  3.0  5.10  1.8  Iris-virginica\n",
       "\n",
       "[150 rows x 5 columns]"
      ]
     },
     "execution_count": 21,
     "metadata": {},
     "output_type": "execute_result"
    }
   ],
   "source": [
    "df"
   ]
  },
  {
   "cell_type": "markdown",
   "id": "ce214b99",
   "metadata": {},
   "source": [
    "# 3.) Creating various Models for predicting the Species of flower"
   ]
  },
  {
   "cell_type": "code",
   "execution_count": 22,
   "id": "9a34480d",
   "metadata": {},
   "outputs": [],
   "source": [
    "x = df.drop([\"Classification\"],axis=1)\n",
    "y = df[\"Classification\"]"
   ]
  },
  {
   "cell_type": "code",
   "execution_count": 23,
   "id": "c176e9a2",
   "metadata": {},
   "outputs": [
    {
     "data": {
      "text/plain": [
       "<AxesSubplot:>"
      ]
     },
     "execution_count": 23,
     "metadata": {},
     "output_type": "execute_result"
    },
    {
     "data": {
      "image/png": "[encoded data removed]",
      "text/plain": [
       "<Figure size 720x576 with 2 Axes>"
      ]
     },
     "metadata": {
      "needs_background": "light"
     },
     "output_type": "display_data"
    }
   ],
   "source": [
    "corr = df.corr()\n",
    "plt.figure(figsize=(10,8))\n",
    "sns.heatmap(corr, linewidths=0.2, annot=True,vmin=-1,vmax=1)"
   ]
  },
  {
   "cell_type": "markdown",
   "id": "a627fe3f",
   "metadata": {},
   "source": [
    "> The Sepal length has a high positive correlatiion with the Petal features and the vice-versa.\n",
    "\n",
    "> Sepal Width has less or negligible co-relation with other features. \n",
    "\n",
    "> Here we can also note that compared to the Sepal features, the Petal features have high correlatiom with each other."
   ]
  },
  {
   "cell_type": "markdown",
   "id": "72c71585",
   "metadata": {},
   "source": [
    "#### `Importing the libraries for splitting the dataset into training and testing data.`"
   ]
  },
  {
   "cell_type": "code",
   "execution_count": 24,
   "id": "c2f99701",
   "metadata": {},
   "outputs": [],
   "source": [
    "from sklearn.model_selection import train_test_split"
   ]
  },
  {
   "cell_type": "code",
   "execution_count": 25,
   "id": "0edec817",
   "metadata": {},
   "outputs": [],
   "source": [
    "x_train,x_test,y_train,y_test = train_test_split(x,y,random_state=42,test_size=0.25)"
   ]
  },
  {
   "cell_type": "code",
   "execution_count": 26,
   "id": "494fd9cd",
   "metadata": {},
   "outputs": [
    {
     "data": {
      "text/plain": [
       "(112, 4)"
      ]
     },
     "execution_count": 26,
     "metadata": {},
     "output_type": "execute_result"
    }
   ],
   "source": [
    "x_train.shape"
   ]
  },
  {
   "cell_type": "code",
   "execution_count": 27,
   "id": "180c84bd",
   "metadata": {},
   "outputs": [
    {
     "data": {
      "text/plain": [
       "(38, 4)"
      ]
     },
     "execution_count": 27,
     "metadata": {},
     "output_type": "execute_result"
    }
   ],
   "source": [
    "x_test.shape"
   ]
  },
  {
   "cell_type": "markdown",
   "id": "51498b4c",
   "metadata": {},
   "source": [
    "* We have alloted **75%** of our data for traingg the model and the remaining **25%** for Testing purpose."
   ]
  },
  {
   "cell_type": "markdown",
   "id": "f0192f97",
   "metadata": {},
   "source": [
    "### 1) Logistic Regression Model"
   ]
  },
  {
   "cell_type": "code",
   "execution_count": 28,
   "id": "94fe3f51",
   "metadata": {},
   "outputs": [],
   "source": [
    "from sklearn.linear_model import LogisticRegression\n",
    "from sklearn.metrics import accuracy_score,f1_score,confusion_matrix,precision_score"
   ]
  },
  {
   "cell_type": "code",
   "execution_count": 29,
   "id": "25b6327f",
   "metadata": {},
   "outputs": [
    {
     "name": "stdout",
     "output_type": "stream",
     "text": [
      "Training Accuracy is :  0.9464285714285714\n",
      "\n",
      "The accuracy score of LR model is :  0.9736842105263158\n",
      "The F1 score of LR model is :  0.9736842105263158\n",
      "\n",
      "The accuracy score of LR model is : \n",
      " [[14  1  0]\n",
      " [ 0 11  0]\n",
      " [ 0  0 12]]\n"
     ]
    },
    {
     "name": "stderr",
     "output_type": "stream",
     "text": [
      "C:\\Users\\101me\\anaconda3\\lib\\site-packages\\sklearn\\linear_model\\_logistic.py:763: ConvergenceWarning: lbfgs failed to converge (status=1):\n",
      "STOP: TOTAL NO. of ITERATIONS REACHED LIMIT.\n",
      "\n",
      "Increase the number of iterations (max_iter) or scale the data as shown in:\n",
      "    https://scikit-learn.org/stable/modules/preprocessing.html\n",
      "Please also refer to the documentation for alternative solver options:\n",
      "    https://scikit-learn.org/stable/modules/linear_model.html#logistic-regression\n",
      "  n_iter_i = _check_optimize_result(\n"
     ]
    }
   ],
   "source": [
    "model = LogisticRegression()\n",
    "model.fit(x_train,y_train)\n",
    "predict = model.predict(x_test)\n",
    "\n",
    "y_train_pred = model.predict(x_train) #To checking training data prediction & accuracy in future\n",
    "\n",
    "print(\"Training Accuracy is : \", accuracy_score(y_train, y_train_pred))\n",
    "print(\"\\nThe accuracy score of LR model is : \", accuracy_score(y_test,predict))\n",
    "print(\"The F1 score of LR model is : \", f1_score(y_test,predict,average=\"micro\"))\n",
    "print(\"\\nThe accuracy score of LR model is : \\n\", confusion_matrix(y_test,predict))"
   ]
  },
  {
   "cell_type": "markdown",
   "id": "b059f82d",
   "metadata": {},
   "source": [
    "### 2) KNN Model"
   ]
  },
  {
   "cell_type": "code",
   "execution_count": 30,
   "id": "53f9b12a",
   "metadata": {},
   "outputs": [],
   "source": [
    "from sklearn.neighbors import KNeighborsClassifier"
   ]
  },
  {
   "cell_type": "code",
   "execution_count": 31,
   "id": "45a77fa7",
   "metadata": {},
   "outputs": [
    {
     "name": "stdout",
     "output_type": "stream",
     "text": [
      "[0.9473684210526315, 0.9736842105263158, 0.9473684210526315, 0.9473684210526315, 0.9473684210526315, 0.9736842105263158, 0.9736842105263158, 0.9736842105263158, 0.9736842105263158, 0.9736842105263158, 0.9736842105263158, 0.9736842105263158]\n"
     ]
    },
    {
     "data": {
      "text/plain": [
       "Text(0, 0.5, 'accuracy')"
      ]
     },
     "execution_count": 31,
     "metadata": {},
     "output_type": "execute_result"
    },
    {
     "data": {
      "image/png": "[encoded data removed]",
      "text/plain": [
       "<Figure size 432x288 with 1 Axes>"
      ]
     },
     "metadata": {
      "needs_background": "light"
     },
     "output_type": "display_data"
    }
   ],
   "source": [
    "acc_val = []\n",
    "neighbors = np.arange(3,15)\n",
    "\n",
    "\n",
    "for k in neighbors:\n",
    "    #creating an instance for knn\n",
    "    knn_classifer = KNeighborsClassifier(n_neighbors=k,metric = \"minkowski\")\n",
    "    knn_classifer.fit(x_train,y_train)\n",
    "    predict1 = knn_classifer.predict(x_test)\n",
    "    acc = accuracy_score(y_test,predict1)\n",
    "    acc_val.append(acc)\n",
    "    \n",
    "print(acc_val)\n",
    "plt.plot(neighbors,acc_val,\"o-\") # o- will plot with a line joining all the dots\n",
    "plt.xlabel(\"k value\")\n",
    "plt.ylabel(\"accuracy\")"
   ]
  },
  {
   "cell_type": "code",
   "execution_count": 32,
   "id": "50811df6",
   "metadata": {},
   "outputs": [
    {
     "name": "stdout",
     "output_type": "stream",
     "text": [
      "Training Accuracy is :  0.9553571428571429\n",
      "\n",
      "The accuracy score of KNN model is :  0.9736842105263158\n",
      "The F1 score of KNN model is :  0.9736842105263158\n",
      "\n",
      "The confusion matrix of KNN model is : \n",
      " [[14  1  0]\n",
      " [ 0 11  0]\n",
      " [ 0  0 12]]\n"
     ]
    }
   ],
   "source": [
    "classifer = KNeighborsClassifier(n_neighbors=4,metric = \"minkowski\") \n",
    "classifer.fit(x_train,y_train)\n",
    "predict1 = classifer.predict(x_test)\n",
    "\n",
    "y_train_pred1 = classifer.predict(x_train)\n",
    "\n",
    "print(\"Training Accuracy is : \", accuracy_score(y_train, y_train_pred1))\n",
    "print(\"\\nThe accuracy score of KNN model is : \", accuracy_score(y_test,predict1))\n",
    "print(\"The F1 score of KNN model is : \", f1_score(y_test,predict1,average=\"micro\"))\n",
    "print(\"\\nThe confusion matrix of KNN model is : \\n\", confusion_matrix(y_test,predict1))"
   ]
  },
  {
   "cell_type": "markdown",
   "id": "93ae344e",
   "metadata": {},
   "source": [
    "### 3) SVM Model"
   ]
  },
  {
   "cell_type": "code",
   "execution_count": 33,
   "id": "2c650ba9",
   "metadata": {},
   "outputs": [],
   "source": [
    "from sklearn.svm import SVC"
   ]
  },
  {
   "cell_type": "markdown",
   "id": "df3f0f17",
   "metadata": {},
   "source": [
    "#### RBF SVM Model"
   ]
  },
  {
   "cell_type": "code",
   "execution_count": 34,
   "id": "e71d6bf6",
   "metadata": {},
   "outputs": [
    {
     "name": "stdout",
     "output_type": "stream",
     "text": [
      "Training Accuracy is :  0.9553571428571429\n",
      "\n",
      "The accuracy score of Radial SVM model is :  0.9736842105263158\n",
      "The f1 score of Radial SVM model is :  0.9736842105263158\n",
      "\n",
      "The confusion matrix for Radial SVM model is : \n",
      " [[14  1  0]\n",
      " [ 0 11  0]\n",
      " [ 0  0 12]]\n"
     ]
    }
   ],
   "source": [
    "svm_radial = SVC(kernel='rbf')\n",
    "svm_radial.fit(x_train,y_train)\n",
    "predict2 = svm_radial.predict(x_test)\n",
    "\n",
    "y_train_pred2 = svm_radial.predict(x_train)\n",
    "\n",
    "print(\"Training Accuracy is : \", accuracy_score(y_train, y_train_pred2))\n",
    "print(\"\\nThe accuracy score of Radial SVM model is : \", accuracy_score(y_test,predict2))\n",
    "print(\"The f1 score of Radial SVM model is : \", f1_score(y_test,predict2, average=\"micro\"))\n",
    "print(\"\\nThe confusion matrix for Radial SVM model is : \\n\", confusion_matrix(y_test,predict2))"
   ]
  },
  {
   "cell_type": "markdown",
   "id": "445720a0",
   "metadata": {},
   "source": [
    "#### Linear SVM Model"
   ]
  },
  {
   "cell_type": "code",
   "execution_count": 35,
   "id": "7f0c3578",
   "metadata": {},
   "outputs": [
    {
     "name": "stdout",
     "output_type": "stream",
     "text": [
      "Training Accuracy is :  0.9642857142857143\n",
      "\n",
      "The accuracy score of linear SVM model is :  1.0\n",
      "The f1 score of linear SVM model is :  1.0\n",
      "\n",
      "The confusion matrix for linear SVM model is : \n",
      " [[15  0  0]\n",
      " [ 0 11  0]\n",
      " [ 0  0 12]]\n"
     ]
    }
   ],
   "source": [
    "svm_linear = SVC(kernel= \"linear\")\n",
    "svm_linear.fit(x_train,y_train)\n",
    "predict2a = svm_linear.predict(x_test)\n",
    "\n",
    "y_train_pred2a = svm_linear.predict(x_train)\n",
    "\n",
    "print(\"Training Accuracy is : \", accuracy_score(y_train, y_train_pred2a))\n",
    "print(\"\\nThe accuracy score of linear SVM model is : \", accuracy_score(y_test,predict2a))\n",
    "print(\"The f1 score of linear SVM model is : \", f1_score(y_test,predict2a, average=\"micro\"))\n",
    "print(\"\\nThe confusion matrix for linear SVM model is : \\n\", confusion_matrix(y_test,predict2a))"
   ]
  },
  {
   "cell_type": "markdown",
   "id": "9a72354c",
   "metadata": {},
   "source": [
    "#### Polynomial SVM Model"
   ]
  },
  {
   "cell_type": "code",
   "execution_count": 36,
   "id": "c91f7d44",
   "metadata": {},
   "outputs": [
    {
     "name": "stdout",
     "output_type": "stream",
     "text": [
      "Training Accuracy is :  0.9642857142857143\n",
      "\n",
      "Accuracy for test data is :  1.0\n",
      "f1_score is :  1.0\n",
      "\n",
      "confusion matrix is : \n",
      " [[15  0  0]\n",
      " [ 0 11  0]\n",
      " [ 0  0 12]]\n"
     ]
    }
   ],
   "source": [
    "svm_poly = SVC(kernel=\"poly\", degree=3)\n",
    "svm_poly.fit(x_train,y_train)\n",
    "predict2b = svm_poly.predict(x_test)\n",
    "predict2b = svm_linear.predict(x_test)\n",
    "\n",
    "y_train_pred2b = svm_poly.predict(x_train)\n",
    "\n",
    "print(\"Training Accuracy is : \", accuracy_score(y_train, y_train_pred2b))\n",
    "print(\"\\nAccuracy for test data is : \" ,  accuracy_score(y_test,predict2b))\n",
    "print(\"f1_score is : \" ,  f1_score(y_test,predict2b,average=\"micro\"))\n",
    "print(\"\\nconfusion matrix is : \\n\" ,  confusion_matrix(y_test,predict2b))"
   ]
  },
  {
   "cell_type": "markdown",
   "id": "0089b121",
   "metadata": {},
   "source": [
    "### 3) Decision Tree Model"
   ]
  },
  {
   "cell_type": "code",
   "execution_count": 37,
   "id": "3454700f",
   "metadata": {},
   "outputs": [],
   "source": [
    "from sklearn.tree import DecisionTreeClassifier"
   ]
  },
  {
   "cell_type": "code",
   "execution_count": 38,
   "id": "ce762b7d",
   "metadata": {},
   "outputs": [
    {
     "name": "stdout",
     "output_type": "stream",
     "text": [
      "Training Accuracy is :  1.0\n",
      "\n",
      "The accuracy score of Decision tree model is :  1.0\n",
      "The f1 score of Decision tree model is :  1.0\n",
      "\n",
      "The confusion matrix of Decision tree model is : \n",
      " [[15  0  0]\n",
      " [ 0 11  0]\n",
      " [ 0  0 12]]\n"
     ]
    }
   ],
   "source": [
    "d_tree = DecisionTreeClassifier()\n",
    "d_tree.fit(x_train,y_train)\n",
    "predict3 = d_tree.predict(x_test)\n",
    "\n",
    "y_train_pred3 = d_tree.predict(x_train)\n",
    "\n",
    "print(\"Training Accuracy is : \", accuracy_score(y_train, y_train_pred3))\n",
    "print(\"\\nThe accuracy score of Decision tree model is : \", accuracy_score(y_test,predict3))\n",
    "print(\"The f1 score of Decision tree model is : \", f1_score(y_test,predict3,average=\"micro\"))\n",
    "print(\"\\nThe confusion matrix of Decision tree model is : \\n\", confusion_matrix(y_test,predict3))"
   ]
  },
  {
   "cell_type": "markdown",
   "id": "e2a16624",
   "metadata": {},
   "source": [
    "### 4) Random Forest Classifier Model"
   ]
  },
  {
   "cell_type": "code",
   "execution_count": 39,
   "id": "0cf08257",
   "metadata": {},
   "outputs": [],
   "source": [
    "from sklearn.ensemble import RandomForestClassifier\n"
   ]
  },
  {
   "cell_type": "code",
   "execution_count": 40,
   "id": "3f6d5d52",
   "metadata": {},
   "outputs": [
    {
     "name": "stdout",
     "output_type": "stream",
     "text": [
      "Training Accuracy is :  1.0\n",
      "\n",
      "The accuracy score for Random Forest Model is :  1.0\n",
      "The f1 score is :  1.0\n",
      "\n",
      " The confusion matrix is : \n",
      " [[15  0  0]\n",
      " [ 0 11  0]\n",
      " [ 0  0 12]]\n"
     ]
    }
   ],
   "source": [
    "rf_model = RandomForestClassifier()\n",
    "rf_model.fit(x_train,y_train)\n",
    "predict4 = rf_model.predict(x_test)\n",
    "\n",
    "y_train_pred4 = rf_model.predict(x_train)\n",
    "\n",
    "print(\"Training Accuracy is : \", accuracy_score(y_train, y_train_pred4))\n",
    "print(\"\\nThe accuracy score for Random Forest Model is : \", accuracy_score(y_test,predict4))\n",
    "print(\"The f1 score is : \", f1_score(y_test,predict4,average=\"micro\"))\n",
    "print(\"\\n The confusion matrix is : \\n\", confusion_matrix(y_test,predict4))"
   ]
  },
  {
   "cell_type": "markdown",
   "id": "14c10ec2",
   "metadata": {},
   "source": [
    "### 5) Gradient Boosting Classifier Model"
   ]
  },
  {
   "cell_type": "code",
   "execution_count": 41,
   "id": "32a9ee16",
   "metadata": {},
   "outputs": [],
   "source": [
    "from sklearn.ensemble import GradientBoostingClassifier\n"
   ]
  },
  {
   "cell_type": "code",
   "execution_count": 42,
   "id": "3d200b43",
   "metadata": {},
   "outputs": [
    {
     "name": "stdout",
     "output_type": "stream",
     "text": [
      "Training Accuracy is :  1.0\n",
      "\n",
      "The accuracy score for GradientBoostingClassifier Model is :  1.0\n",
      "The f1 score is :  1.0\n",
      "\n",
      " The confusion matrix is : \n",
      " [[15  0  0]\n",
      " [ 0 11  0]\n",
      " [ 0  0 12]]\n"
     ]
    }
   ],
   "source": [
    "gbc = GradientBoostingClassifier()\n",
    "gbc.fit(x_train,y_train)\n",
    "predict5 = gbc.predict(x_test)\n",
    "\n",
    "y_train_pred5 = gbc.predict(x_train)\n",
    "\n",
    "print(\"Training Accuracy is : \", accuracy_score(y_train, y_train_pred5))\n",
    "print(\"\\nThe accuracy score for GradientBoostingClassifier Model is : \", accuracy_score(y_test,predict5))\n",
    "print(\"The f1 score is : \", f1_score(y_test,predict5,average=\"micro\"))\n",
    "print(\"\\n The confusion matrix is : \\n\", confusion_matrix(y_test,predict5))"
   ]
  },
  {
   "cell_type": "markdown",
   "id": "b92e3a59",
   "metadata": {},
   "source": [
    "### 6) Extreme Gradient Boosting Classifier"
   ]
  },
  {
   "cell_type": "code",
   "execution_count": 43,
   "id": "976477e7",
   "metadata": {},
   "outputs": [],
   "source": [
    "import xgboost as xgb\n",
    "from xgboost import XGBClassifier"
   ]
  },
  {
   "cell_type": "code",
   "execution_count": 44,
   "id": "232f1f5d",
   "metadata": {},
   "outputs": [
    {
     "name": "stdout",
     "output_type": "stream",
     "text": [
      "[18:03:45] WARNING: ..\\src\\learner.cc:1115: Starting in XGBoost 1.3.0, the default evaluation metric used with the objective 'multi:softprob' was changed from 'merror' to 'mlogloss'. Explicitly set eval_metric if you'd like to restore the old behavior.\n",
      "Training Accuracy is :  1.0\n",
      "\n",
      "The accuracy score for XGB Classifier Model is :  1.0\n",
      "The f1 score is :  1.0\n",
      "\n",
      " The confusion matrix is : \n",
      " [[15  0  0]\n",
      " [ 0 11  0]\n",
      " [ 0  0 12]]\n"
     ]
    },
    {
     "name": "stderr",
     "output_type": "stream",
     "text": [
      "C:\\Users\\101me\\anaconda3\\lib\\site-packages\\xgboost\\sklearn.py:1224: UserWarning: The use of label encoder in XGBClassifier is deprecated and will be removed in a future release. To remove this warning, do the following: 1) Pass option use_label_encoder=False when constructing XGBClassifier object; and 2) Encode your labels (y) as integers starting with 0, i.e. 0, 1, 2, ..., [num_class - 1].\n",
      "  warnings.warn(label_encoder_deprecation_msg, UserWarning)\n"
     ]
    }
   ],
   "source": [
    "xgb = XGBClassifier()\n",
    "xgb.fit(x_train,y_train)\n",
    "predict6 = xgb.predict(x_test)\n",
    "\n",
    "y_train_pred6 = xgb.predict(x_train)\n",
    "\n",
    "print(\"Training Accuracy is : \", accuracy_score(y_train, y_train_pred6))\n",
    "print(\"\\nThe accuracy score for XGB Classifier Model is : \", accuracy_score(y_test,predict6))\n",
    "print(\"The f1 score is : \", f1_score(y_test,predict6,average=\"micro\"))\n",
    "print(\"\\n The confusion matrix is : \\n\", confusion_matrix(y_test,predict6))"
   ]
  },
  {
   "cell_type": "markdown",
   "id": "128b3257",
   "metadata": {},
   "source": [
    "## Overall Summary for the Various models created :"
   ]
  },
  {
   "cell_type": "markdown",
   "id": "ccd64b3a",
   "metadata": {},
   "source": [
    "| Model Name | Accuracy score|\n",
    "|- - -| - - -|\n",
    "|*Logistic Regression Model*|0.974|\n",
    "|*kNN Model*| 0.974|\n",
    "|      |      |\n",
    "|*Radial SVM Model*| 0.974|\n",
    "|*linear SVM Model*| 1.0|\n",
    "|*Polynomial SVM Model*| 1.0|\n",
    "|      |      |\n",
    "|*Decision tree Model*| 1.0|\n",
    "|*Gradient Boosting Classifier Model*|1.0|\n",
    "|*Extreme Gradient Boosting Classifier*|1.0|\n"
   ]
  },
  {
   "cell_type": "markdown",
   "id": "fe652bdd",
   "metadata": {},
   "source": [
    "After Studying the above data which we obtained, we can say the folllowing :\n",
    "\n",
    "* In general terms , all the Models are performing relatively well. However a few stand above the others.\n",
    "* The one that out shine the others are mainly the Tree-based models i.e. :\n",
    "> * `Decision Tree Model`,\n",
    "> * `Random Forest Classifier Model`\n",
    "> * `Gradient Boosting Classifier Model` etc.\n",
    "\n",
    "* This is mainly because, **Tree-based models** are generally not much affected by outliers in our dataset, while regression-based models are."
   ]
  },
  {
   "cell_type": "code",
   "execution_count": null,
   "id": "0f286dbb",
   "metadata": {},
   "outputs": [],
   "source": []
  }
 ],
 "metadata": {
  "kernelspec": {
   "display_name": "Python 3",
   "language": "python",
   "name": "python3"
  },
  "language_info": {
   "codemirror_mode": {
    "name": "ipython",
    "version": 3
   },
   "file_extension": ".py",
   "mimetype": "text/x-python",
   "name": "python",
   "nbconvert_exporter": "python",
   "pygments_lexer": "ipython3",
   "version": "3.8.8"
  }
 },
 "nbformat": 4,
 "nbformat_minor": 5
}
